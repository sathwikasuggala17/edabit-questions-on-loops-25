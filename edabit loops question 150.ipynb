{
 "cells": [
  {
   "cell_type": "markdown",
   "id": "75d5e3cd",
   "metadata": {},
   "source": [
    "### task on 3rd-11-23"
   ]
  },
  {
   "cell_type": "markdown",
   "id": "e39705ea",
   "metadata": {},
   "source": [
    "#### 1)Create a function that takes an array of values resistance that are connected in series, and calculates the total resistance of the circuit in ohms. The ohm is the standard unit of electrical resistance in the International System of Units ( SI )."
   ]
  },
  {
   "cell_type": "code",
   "execution_count": 3,
   "id": "4dc0e2a3",
   "metadata": {},
   "outputs": [
    {
     "name": "stdout",
     "output_type": "stream",
     "text": [
      "60 ohms\n"
     ]
    }
   ],
   "source": [
    "resistance = [10, 20, 30]\n",
    "total_of_resistance = 0\n",
    "x = 0 # adding total using indexing method\n",
    "while  x < len(resistance):\n",
    "    total_of_resistance = total_of_resistance + resistance[x]\n",
    "    x = x+1\n",
    "print(f'{total_of_resistance} ohms')"
   ]
  },
  {
   "cell_type": "code",
   "execution_count": 4,
   "id": "8ad60ca5",
   "metadata": {},
   "outputs": [
    {
     "name": "stdout",
     "output_type": "stream",
     "text": [
      "60 ohms\n"
     ]
    }
   ],
   "source": [
    "resistance = [10,20,30]\n",
    "total_of_resistance =0\n",
    "for v in resistance:\n",
    "    total_of_resistance = total_of_resistance + v\n",
    "print(f'{total_of_resistance} ohms')"
   ]
  },
  {
   "cell_type": "markdown",
   "id": "67074f1c",
   "metadata": {},
   "source": [
    "#### 2) Create a function which concatenates the number 7 to the end of every chord in a list. Ignore all chords which already end with 7."
   ]
  },
  {
   "cell_type": "code",
   "execution_count": 5,
   "id": "dd9d56ba",
   "metadata": {},
   "outputs": [
    {
     "name": "stdout",
     "output_type": "stream",
     "text": [
      "['a7', 'b7', 'c7', 'd7', 'e7', 'f7']\n"
     ]
    }
   ],
   "source": [
    "chords = ['a','b','c','d','e','f']\n",
    "y = 0\n",
    "while y <len(chords):\n",
    "    if not chords[y].endswith('7'):\n",
    "        chords[y] = chords[y] +'7'\n",
    "        y = y+1\n",
    "print(chords)"
   ]
  },
  {
   "cell_type": "code",
   "execution_count": 6,
   "id": "924ce018",
   "metadata": {},
   "outputs": [
    {
     "name": "stdout",
     "output_type": "stream",
     "text": [
      "['a7', 'b7', 'c7', 'd7', 'e7', 'f7']\n"
     ]
    }
   ],
   "source": [
    "chords = ['a','b','c','d','e','f']\n",
    "for y in range(len(chords)):\n",
    "    if not chords[y].endswith('7'):\n",
    "        chords[y] = chords[y] +'7'\n",
    "print(chords)"
   ]
  },
  {
   "cell_type": "markdown",
   "id": "386e7c22",
   "metadata": {},
   "source": [
    "#### 3) Create a function that returns a base-2 (binary) representation of a base-10 (decimal) string number. To convert is simple: ((2) means base-2 and (10) means base-10) 010101001(2) = 1 + 8 + 32 + 128.\n",
    "\n",
    "#### Going from right to left, the value of the most right bit is 1, now from that every bit to the left will be x2 the value, value of an 8 bit binary numbers are (256, 128, 64, 32, 16, 8, 4, 2, 1)."
   ]
  },
  {
   "cell_type": "code",
   "execution_count": 48,
   "id": "e35d1f2f",
   "metadata": {},
   "outputs": [
    {
     "name": "stdout",
     "output_type": "stream",
     "text": [
      "enter a decimal number: 6\n",
      " binary representation is: 110\n"
     ]
    }
   ],
   "source": [
    "decimal_number = int(input('enter a decimal number: '))\n",
    "binary_result = \"\"\n",
    "while True:\n",
    "    reminder = decimal_number % 2\n",
    "    binary_result = str(reminder) + binary_result\n",
    "    decimal_number = decimal_number // 2\n",
    "    if decimal_number == 0:\n",
    "        break\n",
    "print(f' binary representation is: {binary_result}')"
   ]
  },
  {
   "cell_type": "code",
   "execution_count": 51,
   "id": "1ff52eef",
   "metadata": {},
   "outputs": [
    {
     "name": "stdout",
     "output_type": "stream",
     "text": [
      "enter a decimal number: 6\n",
      "The binary representation is: 00000110\n"
     ]
    }
   ],
   "source": [
    "decimal_number = int(input('enter a decimal number: '))\n",
    "binary_result = \"\"\n",
    "for i in range(7, -1, -1):  # Assuming 8-bit representation\n",
    "    power_of_two = 2 ** i\n",
    "    if decimal_number >= power_of_two:\n",
    "        binary_result += \"1\"\n",
    "        decimal_number -= power_of_two\n",
    "    else:\n",
    "        binary_result += \"0\"\n",
    "print(f'The binary representation is: {binary_result}')"
   ]
  },
  {
   "cell_type": "markdown",
   "id": "21682252",
   "metadata": {},
   "source": [
    "#### 4) Create a function that takes a string and returns the number (count) of vowels contained within it."
   ]
  },
  {
   "cell_type": "code",
   "execution_count": 7,
   "id": "821ec875",
   "metadata": {},
   "outputs": [
    {
     "name": "stdout",
     "output_type": "stream",
     "text": [
      "vowels count of the string is 6\n"
     ]
    }
   ],
   "source": [
    "string = 'sathwika suggala'\n",
    "vowels_count = 0\n",
    "x = 0\n",
    "vowels = 'aeiou' \n",
    "while x <len(string):\n",
    "    if string[x] in vowels:\n",
    "        vowels_count = vowels_count + 1 \n",
    "    x = x+1\n",
    "print('vowels count of the string is', vowels_count)"
   ]
  },
  {
   "cell_type": "code",
   "execution_count": 8,
   "id": "4c9ea796",
   "metadata": {},
   "outputs": [
    {
     "name": "stdout",
     "output_type": "stream",
     "text": [
      "vowels count of the string is 6\n"
     ]
    }
   ],
   "source": [
    "string = 'SATHWIKA SUGGALA'\n",
    "vowels_count = 0\n",
    "vowels = 'AEIOU'\n",
    "for values in string:\n",
    "    if values in vowels:\n",
    "        vowels_count = vowels_count + 1\n",
    "print('vowels count of the string is', vowels_count)"
   ]
  },
  {
   "cell_type": "markdown",
   "id": "a9c505e0",
   "metadata": {},
   "source": [
    "#### 5) Create a function that takes a list and finds the integer which appears an odd number of times."
   ]
  },
  {
   "cell_type": "code",
   "execution_count": 9,
   "id": "9dc2ebb8",
   "metadata": {},
   "outputs": [
    {
     "name": "stdout",
     "output_type": "stream",
     "text": [
      "integer appears odd number of times is:5\n"
     ]
    }
   ],
   "source": [
    "my_list = [4,5,6,6,5,4,3,2,1,1,2,3,7,4,5,4,6,4,7] # given elements odd no.of times\n",
    "while len(my_list) > 0:\n",
    "    elements_of_the_list = my_list[0] # taken indexing value\n",
    "    count_of_list = my_list.count(elements_of_the_list) # using count method + indexing = count of list\n",
    "    print(f'integer appears odd number of times is:{count_of_list}') # using format string\n",
    "    break"
   ]
  },
  {
   "cell_type": "code",
   "execution_count": 10,
   "id": "501bcf87",
   "metadata": {},
   "outputs": [
    {
     "name": "stdout",
     "output_type": "stream",
     "text": [
      "integers appears odd number of times is: 4\n"
     ]
    }
   ],
   "source": [
    "my_list = [4,5,6,6,5,4,3,2,1,1,2,3,7,4,5,4,6,4,7] # given elements odd no.of times\n",
    "count = {}\n",
    "for a in my_list:\n",
    "    if a in count:\n",
    "        count[a] = count[a] + 1\n",
    "    else:\n",
    "        count[a] = 1\n",
    "outcome = None\n",
    "for x, y in count.items():\n",
    "    if y % 2 != 0:\n",
    "        outcome = x\n",
    "        break\n",
    "print(f'integers appears odd number of times is: {outcome}')"
   ]
  },
  {
   "cell_type": "markdown",
   "id": "2bb6d425",
   "metadata": {},
   "source": [
    "#### 6) Create a function that computes the hamming distance between two strings."
   ]
  },
  {
   "cell_type": "code",
   "execution_count": 11,
   "id": "1bf11e13",
   "metadata": {},
   "outputs": [
    {
     "name": "stdout",
     "output_type": "stream",
     "text": [
      "hamming string distance between 'hyderabad' and 'bangalore' is 9\n"
     ]
    }
   ],
   "source": [
    "string1 = 'hyderabad' # values in both strings should be equal else raises an error\n",
    "string2 = 'bangalore'\n",
    "hamming_distance = 0 \n",
    "hd = 0  # indexing value\n",
    "while hd < len(string1): \n",
    "    if string1[hd] != string2[hd]: \n",
    "        hamming_distance = hamming_distance + 1\n",
    "    hd = hd + 1\n",
    "print(f\"hamming string distance between '{string1}' and '{string2}' is {hamming_distance}\")"
   ]
  },
  {
   "cell_type": "code",
   "execution_count": 12,
   "id": "7a88c247",
   "metadata": {},
   "outputs": [
    {
     "name": "stdout",
     "output_type": "stream",
     "text": [
      "hamming string distance between 'hyderabad' and 'bangalore' is 9\n"
     ]
    }
   ],
   "source": [
    "string1 = 'hyderabad' # values in both strings should be equal else raises an error\n",
    "string2 = 'bangalore'\n",
    "hamming_distance = 0 \n",
    "for hd in range(len(string1)):\n",
    "    if string1[hd] != string2[hd]: \n",
    "        hamming_distance = hamming_distance + 1\n",
    "print(f\"hamming string distance between '{string1}' and '{string2}' is {hamming_distance}\")"
   ]
  },
  {
   "cell_type": "markdown",
   "id": "bb4b71d1",
   "metadata": {},
   "source": [
    "#### 7) Create a function that takes a list of non-negative integers and strings and return a new list without the strings."
   ]
  },
  {
   "cell_type": "code",
   "execution_count": 13,
   "id": "5613c8f7",
   "metadata": {},
   "outputs": [
    {
     "name": "stdout",
     "output_type": "stream",
     "text": [
      "[1, 2]\n"
     ]
    }
   ],
   "source": [
    "new_list = [1, 2, 'sathwika', 'vaishno']\n",
    "array = []\n",
    "s = 0\n",
    "while s < len(new_list):\n",
    "    if isinstance(new_list[s], int):\n",
    "        array.append(new_list[s])\n",
    "    s += 1\n",
    "print(array)"
   ]
  },
  {
   "cell_type": "code",
   "execution_count": 14,
   "id": "0f074f82",
   "metadata": {},
   "outputs": [
    {
     "name": "stdout",
     "output_type": "stream",
     "text": [
      "[1, 2]\n"
     ]
    }
   ],
   "source": [
    "new_list = [1,2,'sathwika' 'vaishno']\n",
    "array = []\n",
    "for s in new_list:\n",
    "    if isinstance(s, int):\n",
    "        array.append(s)\n",
    "print(array)"
   ]
  },
  {
   "cell_type": "markdown",
   "id": "833452dc",
   "metadata": {},
   "source": [
    "#### 8) Create a function that takes a list of strings and integers, and filters out the list so that it returns a list of integers only."
   ]
  },
  {
   "cell_type": "code",
   "execution_count": 15,
   "id": "39b07f47",
   "metadata": {},
   "outputs": [
    {
     "name": "stdout",
     "output_type": "stream",
     "text": [
      "[1, 2, 3, 4, 5]\n"
     ]
    }
   ],
   "source": [
    "trip = [1,'ladhak',2,'vrindavan',3,'kerala',4,'new york',5,'paris']\n",
    "integers = []\n",
    "j = 0\n",
    "while j < len(trip):\n",
    "    if isinstance(trip[j], int):\n",
    "        integers.append(trip[j])\n",
    "    j+= 1\n",
    "print(integers)"
   ]
  },
  {
   "cell_type": "code",
   "execution_count": 16,
   "id": "30579315",
   "metadata": {},
   "outputs": [
    {
     "name": "stdout",
     "output_type": "stream",
     "text": [
      "[1, 2, 3, 4, 5]\n"
     ]
    }
   ],
   "source": [
    "trip = [1,'ladhak',2,'vrindavan',3,'kerala',4,'new york',5,'paris']\n",
    "integers = []\n",
    "for j in trip:\n",
    "    if isinstance(j, int):\n",
    "        integers.append(j)\n",
    "print(integers)"
   ]
  },
  {
   "cell_type": "markdown",
   "id": "8b811fcd",
   "metadata": {},
   "source": [
    "#### 9) Given a list of numbers, create a function which returns the list but with each element's index in the list added to itself. This means you add 0 to the number at index 0, add 1 to the number at index 1, etc..."
   ]
  },
  {
   "cell_type": "code",
   "execution_count": 30,
   "id": "99c20052",
   "metadata": {},
   "outputs": [
    {
     "name": "stdout",
     "output_type": "stream",
     "text": [
      "[0, 2, 4, 6, 8, 9, 12, 13, 14, 15, 16, 14, 14, 14, 14]\n"
     ]
    }
   ],
   "source": [
    "add_index = [0,1,2,3,4,4,6,6,6,6,6,3,2,1,0]\n",
    "result = []\n",
    "i = 0\n",
    "while i < len(add_index):\n",
    "        result.append(add_index[i] + i)\n",
    "        i += 1\n",
    "print(result)"
   ]
  },
  {
   "cell_type": "code",
   "execution_count": 31,
   "id": "1719effb",
   "metadata": {},
   "outputs": [
    {
     "name": "stdout",
     "output_type": "stream",
     "text": [
      "[0, 2, 4, 6, 8, 9, 12, 13, 14, 15, 16, 14, 14, 14, 14]\n"
     ]
    }
   ],
   "source": [
    "add_index = [0,1,2,3,4,4,6,6,6,6,6,3,2,1,0]\n",
    "result = []\n",
    "for i in range(len(add_index)):\n",
    "        result.append(add_index[i] + i)\n",
    "print(result)"
   ]
  },
  {
   "cell_type": "markdown",
   "id": "21f7ac1d",
   "metadata": {},
   "source": [
    "#### 10) This Triangular Number Sequence is generated from a pattern of dots that form a triangle. The first 5 numbers of the sequence, or dots, are:\n",
    "#### Write a function that returns the number of dots when given its corresponding triangle number of the sequence."
   ]
  },
  {
   "cell_type": "code",
   "execution_count": null,
   "id": "75afd111",
   "metadata": {},
   "outputs": [
    {
     "name": "stdout",
     "output_type": "stream",
     "text": [
      "triangular number: 15\n"
     ]
    }
   ],
   "source": [
    "triangular_num = int(input('triangular number: '))\n",
    "dots = 0\n",
    "i = 1\n",
    "\n",
    "while True:\n",
    "    dots < triangular_num\n",
    "    dots += i\n",
    "    i += 1\n",
    "print(dots)\n",
    "position = 6\n",
    "result = triangular_num(position)\n",
    "print(f\"The number of dots for position {position} using while loop is: {result}\")"
   ]
  },
  {
   "cell_type": "markdown",
   "id": "0e4e3b6a",
   "metadata": {},
   "source": [
    "####  12) Write a function that takes a list of elements and returns only the integers."
   ]
  },
  {
   "cell_type": "code",
   "execution_count": 17,
   "id": "ded1cb49",
   "metadata": {},
   "outputs": [
    {
     "name": "stdout",
     "output_type": "stream",
     "text": [
      "[1, 2, 3, 4, 5, 6]\n"
     ]
    }
   ],
   "source": [
    "elements_list = [1,'london',2,'paris',3,'newyork',4,'uk',5,'california',6,'mexico',]\n",
    "integers = []\n",
    "j = 0\n",
    "while j <len(elements_list):\n",
    "    if isinstance(elements_list[j], int):\n",
    "        integers.append(elements_list[j])\n",
    "    j+= 1\n",
    "print(integers)"
   ]
  },
  {
   "cell_type": "code",
   "execution_count": 18,
   "id": "5da9c0f7",
   "metadata": {},
   "outputs": [
    {
     "name": "stdout",
     "output_type": "stream",
     "text": [
      "[1, 2, 3, 4, 5, 6]\n"
     ]
    }
   ],
   "source": [
    "elements_list = [1,'london',2,'paris',3,'newyork',4,'uk',5,'california',6,'mexico',]\n",
    "integers = []\n",
    "for j in elements_list:\n",
    "       if j in elements_list:\n",
    "        if isinstance(j, int):\n",
    "            integers.append(j)\n",
    "print(integers)"
   ]
  },
  {
   "cell_type": "markdown",
   "id": "1d2d1a5c",
   "metadata": {},
   "source": [
    "#### 13) An isogram is a word that has no duplicate letters. Create a function that takes a string and returns either True or False depending on whether or not it's an \"isogram\"."
   ]
  },
  {
   "cell_type": "code",
   "execution_count": 19,
   "id": "46717b4a",
   "metadata": {},
   "outputs": [
    {
     "name": "stdout",
     "output_type": "stream",
     "text": [
      "[1, 2, 3]\n"
     ]
    }
   ],
   "source": [
    "isogram = [1,2,3,3,2,1,1,2,3,3,2,1]\n",
    "isogram.sort()\n",
    "x = 0\n",
    "while x <len(isogram) -1:\n",
    "    if isogram[x] == isogram[x + 1]:\n",
    "        del isogram[x]\n",
    "    else:\n",
    "        x += 1\n",
    "print(isogram)"
   ]
  },
  {
   "cell_type": "code",
   "execution_count": 2,
   "id": "646655b1",
   "metadata": {},
   "outputs": [
    {
     "name": "stdout",
     "output_type": "stream",
     "text": [
      "[1, 2, 3]\n"
     ]
    }
   ],
   "source": [
    "isogram = [1,2,3,3,2,1,1,2,3,3,2,1]\n",
    "for x in range(len(isogram)):\n",
    "    for y in range(0, len(isogram)-x-1):\n",
    "        if isogram[y] > isogram[y+1]:\n",
    "            isogram[y], isogram[y+1] = isogram[x + 1], isogram[x]\n",
    "unique_list = []\n",
    "for num in isogram:\n",
    "    if num not in unique_list:\n",
    "        unique_list.append(num)\n",
    "print(unique_list)"
   ]
  },
  {
   "cell_type": "markdown",
   "id": "f83aae9f",
   "metadata": {},
   "source": [
    "#### 14) Given a list of numbers, write a function that returns a list that...\n",
    "* Has all duplicate elements removed.\n",
    "* Is sorted from least to greatest value."
   ]
  },
  {
   "cell_type": "code",
   "execution_count": 1,
   "id": "c6bf6e9c",
   "metadata": {},
   "outputs": [
    {
     "name": "stdout",
     "output_type": "stream",
     "text": [
      "[1, 2, 3, 4, 5, 6]\n"
     ]
    }
   ],
   "source": [
    "numbers = [1,2,3,3,4,4,3,2,1,5,6,6,5]\n",
    "new_list = []\n",
    "k = 0\n",
    "while k < len(numbers):\n",
    "    if numbers[k] not in new_list:\n",
    "        new_list.append(numbers[k])\n",
    "    k+=1\n",
    "l = len(new_list)\n",
    "while l > 1:\n",
    "    sorted_l = 0\n",
    "    for k in range(1, l):\n",
    "        if new_list[k - 1] > new_list [k]:\n",
    "            new_list[k - 1], new_list[k] = new_list[k], new_list[k - l]\n",
    "            sorted_l = k\n",
    "    l = sorted_l\n",
    "print(new_list)"
   ]
  },
  {
   "cell_type": "code",
   "execution_count": 2,
   "id": "b3041ee8",
   "metadata": {},
   "outputs": [
    {
     "name": "stdout",
     "output_type": "stream",
     "text": [
      "[1, 2, 3, 4, 5, 6]\n"
     ]
    }
   ],
   "source": [
    "numbers = [1,2,3,3,4,4,3,2,1,5,6,6,5]\n",
    "new_list = list(set(numbers))\n",
    "for k in range(len(new_list)):\n",
    "    for l in range(0, len(new_list) - k - 1):\n",
    "        if new_list[l] > new_list[l + 1]:\n",
    "            new_list[l], new_list[l + 1] = new_list[l + 1], new_list[l]\n",
    "print(new_list)"
   ]
  },
  {
   "cell_type": "markdown",
   "id": "63bebfca",
   "metadata": {},
   "source": [
    "#### 15) A set is a collection of unique items. A set can be formed from a list by removing all duplicate items. Create a function that sorts a list and removes all duplicate items from it."
   ]
  },
  {
   "cell_type": "code",
   "execution_count": 6,
   "id": "818c3cfe",
   "metadata": {},
   "outputs": [
    {
     "name": "stdout",
     "output_type": "stream",
     "text": [
      "[0, 1, 2, 3, 4, 6]\n"
     ]
    }
   ],
   "source": [
    "numbers = [0,1,2,3,4,4,6,6,6,6,6,3,2,1,0]\n",
    "numbers.sort()\n",
    "i = 0\n",
    "while i < len(numbers) - 1:\n",
    "    if numbers[i] == numbers[i + 1]:\n",
    "        del numbers[i]\n",
    "    else:\n",
    "        i += 1\n",
    "print(numbers)"
   ]
  },
  {
   "cell_type": "code",
   "execution_count": 7,
   "id": "0156952f",
   "metadata": {},
   "outputs": [
    {
     "name": "stdout",
     "output_type": "stream",
     "text": [
      "[0, 1, 2, 3, 4, 6]\n"
     ]
    }
   ],
   "source": [
    "numbers = [0,1,2,3,4,4,6,6,6,6,6,3,2,1,0]\n",
    "for i in range(len(numbers)):\n",
    "    for j in range(0, len(numbers)-i-1):\n",
    "        if numbers[j] > numbers[j+1]:\n",
    "            numbers[j], numbers[j+1] = numbers[j+1], numbers[j]\n",
    "unique_list = []\n",
    "for num in numbers:\n",
    "    if num not in unique_list:\n",
    "        unique_list.append(num)\n",
    "print(unique_list)"
   ]
  },
  {
   "cell_type": "markdown",
   "id": "1cc637bf",
   "metadata": {},
   "source": [
    "#### 16) Create a function that takes a dictionary of student names and returns a list of student names in alphabetical order."
   ]
  },
  {
   "cell_type": "code",
   "execution_count": 2,
   "id": "cd3387c9",
   "metadata": {},
   "outputs": [
    {
     "name": "stdout",
     "output_type": "stream",
     "text": [
      "['Sathwi', 'shirisha', 'sonya', 'vaishno']\n"
     ]
    }
   ],
   "source": [
    "students = {\n",
    "    3: 'shirisha',\n",
    "    1: 'Sathwi',\n",
    "    2: 'vaishno',\n",
    "    4: 'sonya'\n",
    "}\n",
    "names = []\n",
    "while students:\n",
    "    min_key = min(students.keys())\n",
    "    names.append(students.pop(min_key))\n",
    "    names.sort()\n",
    "print(names)"
   ]
  },
  {
   "cell_type": "code",
   "execution_count": 5,
   "id": "950b0afe",
   "metadata": {},
   "outputs": [
    {
     "name": "stdout",
     "output_type": "stream",
     "text": [
      "['Sathwi', 'shirisha', 'sonya', 'vaishno']\n"
     ]
    }
   ],
   "source": [
    "students = {\n",
    "     'shirisha' : 3,\n",
    "     'Sathwi': 1,\n",
    "     'vaishno': 2,\n",
    "     'sonya' : 4,\n",
    "}\n",
    "names = list(students.keys())\n",
    "for x in range(len(names)):\n",
    "    for y in range(x + 1, len(names)):\n",
    "        if names[x] > names[y]:\n",
    "            names[x], names[y] = names[y], names[x]\n",
    "print(names)"
   ]
  },
  {
   "cell_type": "markdown",
   "id": "888a3a9e",
   "metadata": {},
   "source": [
    "#### 17) In this exercise you will have to:\n",
    "* Take a list of names.\n",
    "* Add \"Hello\" to every name.\n",
    "* Make one big string with all greetings.\n",
    "* The solution should be one string with a comma in between every \"Hello (Name)\"."
   ]
  },
  {
   "cell_type": "code",
   "execution_count": 16,
   "id": "03148d0b",
   "metadata": {},
   "outputs": [
    {
     "name": "stdout",
     "output_type": "stream",
     "text": [
      "hello sathwi, hello vaishno, hello shirisha\n"
     ]
    }
   ],
   "source": [
    "names = ['sathwi', 'vaishno','shirisha']\n",
    "greetings = \"\"\n",
    "x = 0\n",
    "while x < len(names):\n",
    "    greetings += \"hello \" + names[x]\n",
    "    if x < len(names) -1:\n",
    "        greetings += \", \"\n",
    "    x+=1\n",
    "print(greetings)"
   ]
  },
  {
   "cell_type": "code",
   "execution_count": 1,
   "id": "a72b21d6",
   "metadata": {},
   "outputs": [
    {
     "name": "stdout",
     "output_type": "stream",
     "text": [
      " hello sathwi, hello vaishno, hello shirisha\n"
     ]
    }
   ],
   "source": [
    "names = ['sathwi', 'vaishno','shirisha']\n",
    "greetings = \" \"\n",
    "for s in names:\n",
    "    greetings += f\"hello {s}, \"\n",
    "greetings = greetings[:-2]\n",
    "print(greetings)"
   ]
  },
  {
   "cell_type": "markdown",
   "id": "d55a809d",
   "metadata": {},
   "source": [
    "#### medium loop questions of starting 8"
   ]
  },
  {
   "cell_type": "markdown",
   "id": "98805ccd",
   "metadata": {},
   "source": [
    "#### 18) Create a function that takes two numbers as arguments (num, length) and returns a list of multiples of num until the list length reaches length."
   ]
  },
  {
   "cell_type": "code",
   "execution_count": 7,
   "id": "beb667a7",
   "metadata": {},
   "outputs": [
    {
     "name": "stdout",
     "output_type": "stream",
     "text": [
      "[128, 256, 384, 512, 640, 768, 896, 1024, 1152, 1280]\n"
     ]
    }
   ],
   "source": [
    "num = 128\n",
    "length = 10\n",
    "multiples = []\n",
    "x = 0\n",
    "while len(multiples) < length:\n",
    "    multiples.append(num * (x + 1))\n",
    "    x += 1\n",
    "print(multiples)"
   ]
  },
  {
   "cell_type": "code",
   "execution_count": 6,
   "id": "fae3457a",
   "metadata": {},
   "outputs": [
    {
     "name": "stdout",
     "output_type": "stream",
     "text": [
      "[128, 256, 384, 512, 640, 768, 896, 1024, 1152, 1280]\n"
     ]
    }
   ],
   "source": [
    "num = 128\n",
    "length = 10\n",
    "multiples = []\n",
    "for i in range(1, length + 1):\n",
    "    multiples.append(num * i)\n",
    "print(multiples)"
   ]
  },
  {
   "cell_type": "markdown",
   "id": "e28df6e6",
   "metadata": {},
   "source": [
    "#### 19) Write a function that accepts the height and width (m, n) and an optional proc s and generates a list with m elements. Each element is a string consisting of either:\n",
    "* The default character (hash #) repeating n times (if no proc is given).\n",
    "* The character passed in through the proc repeating n times."
   ]
  },
  {
   "cell_type": "code",
   "execution_count": 8,
   "id": "b054287f",
   "metadata": {},
   "outputs": [
    {
     "name": "stdout",
     "output_type": "stream",
     "text": [
      "['%%', '%%', '%%', '%%', '%%', '%%', '%%']\n"
     ]
    }
   ],
   "source": [
    "m = 7  # height\n",
    "n = 2  # width\n",
    "S = '%'\n",
    "result = []\n",
    "while m > 0:\n",
    "    if S:\n",
    "        result.append(S * n)\n",
    "    else:\n",
    "        result.append('#' * n)\n",
    "    m -= 1\n",
    "print(result)"
   ]
  },
  {
   "cell_type": "code",
   "execution_count": 9,
   "id": "af426ac8",
   "metadata": {},
   "outputs": [
    {
     "name": "stdout",
     "output_type": "stream",
     "text": [
      "['%%']\n",
      "['%%']\n",
      "['%%']\n",
      "['%%']\n",
      "['%%']\n",
      "['%%']\n",
      "['%%']\n"
     ]
    }
   ],
   "source": [
    "m = 7  # height\n",
    "n = 2  # width\n",
    "s = '%'  \n",
    "for i in range(m):\n",
    "    result = [s * n]\n",
    "    print(result)"
   ]
  },
  {
   "cell_type": "markdown",
   "id": "f389bf87",
   "metadata": {},
   "source": [
    "#### 20) You prepare a list to send to the insurance company. As you finish, you notice you misformatted it. Given a dictionary with at least one key/value pair, convert all the values to numbers."
   ]
  },
  {
   "cell_type": "code",
   "execution_count": 12,
   "id": "2ec6c6a9",
   "metadata": {},
   "outputs": [
    {
     "name": "stdout",
     "output_type": "stream",
     "text": [
      "converted insurance data (using while): {'policy_number': 6243, 'coverage_amount': 150000, 'premium_pay_monthly': 2000}\n"
     ]
    }
   ],
   "source": [
    "insurance_list = {\n",
    "             'policy_number': 6243,\n",
    "             'coverage_amount': 150000,\n",
    "             'premium_pay_monthly': 2000\n",
    "}\n",
    "# convert all the values to numbers by using while loop \n",
    "converted_insurance = {}\n",
    "keys = list(insurance_list.keys())\n",
    "index = 0\n",
    "while index < len(keys):\n",
    "    key = keys[index]\n",
    "    converted_insurance[key] = int(insurance_list[key])\n",
    "    index += 1\n",
    "print(\"converted insurance data (using while):\", converted_insurance)"
   ]
  },
  {
   "cell_type": "code",
   "execution_count": 14,
   "id": "0a381226",
   "metadata": {},
   "outputs": [
    {
     "name": "stdout",
     "output_type": "stream",
     "text": [
      "Converted Insurance Data (using for loop):  {'policy_number': 6243, 'coverage_amount': 150000, 'premium_pay_monthly': 2000}\n"
     ]
    }
   ],
   "source": [
    "insurance_list = {\n",
    "    'policy_number': 6243,\n",
    "    'coverage_amount': 150000,\n",
    "    'premium_pay_monthly': 2000\n",
    "}\n",
    "\n",
    "# Convert all the values to numbers by using for loop\n",
    "converted_insurance = {}\n",
    "for key, value in insurance_list.items():\n",
    "    converted_insurance[key] = int(value)\n",
    "print(\"Converted Insurance Data (using for loop): \", converted_insurance)"
   ]
  },
  {
   "cell_type": "markdown",
   "id": "6ed31bf5",
   "metadata": {},
   "source": [
    "#### 21) In each input list, every number repeats at least once, except for two. Write a function that returns the two unique numbers."
   ]
  },
  {
   "cell_type": "code",
   "execution_count": 23,
   "id": "331cf052",
   "metadata": {},
   "outputs": [
    {
     "name": "stdout",
     "output_type": "stream",
     "text": [
      "The two unique numbers are: [5, 6]\n"
     ]
    }
   ],
   "source": [
    "input_list = [1,2,2,1,3,4,4,3,5,6,7,7]\n",
    "unique_numbers = []\n",
    "while len(input_list) > 0:\n",
    "    num = input_list.pop(0)\n",
    "    if num in unique_numbers:\n",
    "        unique_numbers.remove(num)\n",
    "    else:\n",
    "        unique_numbers.append(num)\n",
    "if len(unique_numbers) == 2:\n",
    "    print(\"The two unique numbers are:\", unique_numbers)"
   ]
  },
  {
   "cell_type": "code",
   "execution_count": 24,
   "id": "fd237b2c",
   "metadata": {},
   "outputs": [
    {
     "name": "stdout",
     "output_type": "stream",
     "text": [
      "The two unique numbers are: [5, 6]\n"
     ]
    }
   ],
   "source": [
    "input_list = [1,2,2,1,3,4,4,3,5,6,7,7]\n",
    "input_length = len(input_list)\n",
    "unique_numbers = []\n",
    "for x in range(input_length):\n",
    "    if input_list.count(input_list[x]) == 1:\n",
    "        unique_numbers.append(input_list[x])\n",
    "        if len(unique_numbers) == 2:\n",
    "            break\n",
    "print(\"The two unique numbers are:\", unique_numbers)"
   ]
  },
  {
   "cell_type": "markdown",
   "id": "c1133627",
   "metadata": {},
   "source": [
    "#### 23) A number is said to be Harshad if it's exactly divisible by the sum of its digits. Create a function that determines whether a number is a Harshad or not."
   ]
  },
  {
   "cell_type": "code",
   "execution_count": 52,
   "id": "f2fed49d",
   "metadata": {},
   "outputs": [
    {
     "name": "stdout",
     "output_type": "stream",
     "text": [
      "22 is not a Harshad number\n"
     ]
    }
   ],
   "source": [
    "num = 22\n",
    "original_num = num\n",
    "sum_of_digits = 0\n",
    "while num > 0:\n",
    "    sum_of_digits += num % 10\n",
    "    num //= 10\n",
    "if original_num % sum_of_digits == 0:\n",
    "    print(f\"{original_num} is a Harshad number\")\n",
    "else:\n",
    "    print(f\"{original_num} is not a Harshad number\")"
   ]
  },
  {
   "cell_type": "code",
   "execution_count": 53,
   "id": "5202a41b",
   "metadata": {},
   "outputs": [
    {
     "name": "stdout",
     "output_type": "stream",
     "text": [
      "36 is a Harshad number\n"
     ]
    }
   ],
   "source": [
    "number = 36\n",
    "num_str = str(number)\n",
    "sum_of_digits = 0\n",
    "for digit in num_str:\n",
    "    sum_of_digits += int(digit)\n",
    "if number % sum_of_digits == 0:\n",
    "    print(f\"{number} is a Harshad number\")\n",
    "else:\n",
    "    print(f\"{number} is not a Harshad number\")"
   ]
  },
  {
   "cell_type": "markdown",
   "id": "4c4837a5",
   "metadata": {},
   "source": [
    "#### 25) To train for an upcoming marathon, Johnny goes on one long-distance run each Saturday. He wants to track how often the number of miles he runs exceeds the previous Saturday. This is called a progress day.\n",
    "#### Create a function that takes in a list of miles run every Saturday and returns Johnny's total number of progress days."
   ]
  },
  {
   "cell_type": "code",
   "execution_count": 58,
   "id": "4655bd0d",
   "metadata": {},
   "outputs": [
    {
     "name": "stdout",
     "output_type": "stream",
     "text": [
      "Johnny's total number of progress days: 4\n"
     ]
    }
   ],
   "source": [
    "miles_run = [3,6,5,4,4,2,2,5,6,3,8]\n",
    "progress_days = 0\n",
    "x = 1\n",
    "while x < len(miles_run):\n",
    "    if miles_run[x] > miles_run[x - 1]:\n",
    "        progress_days += 1\n",
    "    x += 1\n",
    "print(\"Johnny's total number of progress days:\", progress_days)"
   ]
  },
  {
   "cell_type": "code",
   "execution_count": 1,
   "id": "606af310",
   "metadata": {},
   "outputs": [
    {
     "name": "stdout",
     "output_type": "stream",
     "text": [
      "Johnny's total number of progress days: 4\n"
     ]
    }
   ],
   "source": [
    "miles_run = [3,6,5,4,4,2,2,5,6,3,8]\n",
    "progress_days = 0\n",
    "for i in range(1, len(miles_run)):\n",
    "    if miles_run[i] > miles_run[i - 1]:\n",
    "        progress_days += 1\n",
    "print(\"Johnny's total number of progress days:\", progress_days)"
   ]
  }
 ],
 "metadata": {
  "kernelspec": {
   "display_name": "Python 3 (ipykernel)",
   "language": "python",
   "name": "python3"
  },
  "language_info": {
   "codemirror_mode": {
    "name": "ipython",
    "version": 3
   },
   "file_extension": ".py",
   "mimetype": "text/x-python",
   "name": "python",
   "nbconvert_exporter": "python",
   "pygments_lexer": "ipython3",
   "version": "3.11.5"
  }
 },
 "nbformat": 4,
 "nbformat_minor": 5
}
